{
 "cells": [
  {
   "cell_type": "markdown",
   "metadata": {},
   "source": [
    "# Risk chances - a Monte Carlo Studie\n",
    "\n",
    "## Settle once and for all what the chances of the attacker and the defender are"
   ]
  },
  {
   "cell_type": "code",
   "execution_count": 1,
   "metadata": {},
   "outputs": [],
   "source": [
    "import random"
   ]
  },
  {
   "cell_type": "code",
   "execution_count": 2,
   "metadata": {},
   "outputs": [],
   "source": [
    "def throw_dices(minn=1, maxx=6):\n",
    "    count_attacker, count_defender = 0, 0\n",
    "         \n",
    "    attacker_one, attacker_two, attacker_three = random.randint(minn, maxx), random.randint(minn, maxx), random.randint(minn, maxx)\n",
    "    defender_one, defender_two = random.randint(minn, maxx), random.randint(minn, maxx)\n",
    "    attacker_throw = sorted([attacker_one, attacker_two, attacker_three], reverse = True)[0:2]\n",
    "    defender_throw = sorted([defender_one, defender_two], reverse = True)\n",
    "\n",
    "    # First dice.\n",
    "    if defender_throw[0] >= attacker_throw[0]:\n",
    "        count_attacker = count_attacker -1\n",
    "    else:\n",
    "        count_defender = count_defender -1\n",
    "\n",
    "    # Second dice.\n",
    "    if defender_throw[1] >= attacker_throw[1]:\n",
    "        count_attacker = count_attacker -1\n",
    "    else:\n",
    "        count_defender = count_defender -1\n",
    "        \n",
    "    return count_attacker, count_defender\n",
    "    "
   ]
  },
  {
   "cell_type": "code",
   "execution_count": 20,
   "metadata": {},
   "outputs": [
    {
     "name": "stdout",
     "output_type": "stream",
     "text": [
      "100000\n",
      "Attacker-Defender: -88803 - -111197\n",
      "   0% loss for the attacker and 0.555985% loss for the defender\n",
      "200000\n",
      "Attacker-Defender: -177602 - -222398\n",
      "   0% loss for the attacker and 0.555995% loss for the defender\n",
      "300000\n",
      "Attacker-Defender: -267045 - -332955\n",
      "   0% loss for the attacker and 0.554925% loss for the defender\n",
      "400000\n",
      "Attacker-Defender: -356039 - -443961\n",
      "   0% loss for the attacker and 0.55495125% loss for the defender\n",
      "500000\n",
      "Attacker-Defender: -444577 - -555423\n",
      "   0% loss for the attacker and 0.555423% loss for the defender\n",
      "600000\n",
      "Attacker-Defender: -533203 - -666797\n",
      "   0% loss for the attacker and 0.5556641666666666% loss for the defender\n",
      "700000\n",
      "Attacker-Defender: -621769 - -778231\n",
      "   0% loss for the attacker and 0.5558792857142857% loss for the defender\n",
      "800000\n",
      "Attacker-Defender: -710117 - -889883\n",
      "   0% loss for the attacker and 0.556176875% loss for the defender\n",
      "900000\n",
      "Attacker-Defender: -798896 - -1001104\n",
      "   0% loss for the attacker and 0.5561688888888889% loss for the defender\n",
      "1000000\n",
      "Attacker-Defender: -887693 - -1112307\n",
      "   0% loss for the attacker and 0.5561535% loss for the defender\n",
      "Alia iacta est!\n",
      "Attacker-Defender: -887693 - -1112307\n"
     ]
    }
   ],
   "source": [
    "run_number = 0\n",
    "count_attacker, count_defender = 0,0\n",
    "while run_number < 1000000:\n",
    "    interim_attacker, interim_defender = throw_dices(minn = 0, maxx = 6)\n",
    "    count_attacker, count_defender = count_attacker + interim_attacker, count_defender + interim_defender\n",
    "    run_number = run_number + 1\n",
    "    if run_number % 100000 ==0:\n",
    "        print(run_number)\n",
    "        print(\"Attacker-Defender:\", count_attacker, \"-\", count_defender)\n",
    "        \n",
    "        count = count_attacker + count_defender\n",
    "        per_attacker, per_defender = count_attacker / count, count_defender / count\n",
    "        print(\"{:0.2f}% loss for the attacker and {}% loss for the defender\".format(per_attacker, per_defender))\n",
    "\n",
    "else:\n",
    "    print(\"Alia iacta est!\")\n",
    "    print(\"Attacker-Defender:\", count_attacker, \"-\", count_defender)\n",
    "    \n",
    "    \n",
    "    "
   ]
  },
  {
   "cell_type": "code",
   "execution_count": null,
   "metadata": {},
   "outputs": [],
   "source": [
    "def throw_dices(n_runs=10, minn=1, maxx=6, count_attacker=0, count_defender=0, run_number = 0):\n",
    "    if run_number % 100 ==0:\n",
    "        print(run_number)\n",
    "        \n",
    "    \n",
    "    if run_number == n_runs:\n",
    "\n",
    "    \n",
    "    else:\n",
    "\n",
    "    \n",
    "\n",
    "            \n",
    "        # Iterate.\n",
    "        return throw_dices(n_runs = n_runs, minn = minn, maxx = maxx, count_attacker = count_attacker,\n",
    "                           count_defender = count_defender, run_number=run_number+1)"
   ]
  },
  {
   "cell_type": "code",
   "execution_count": null,
   "metadata": {},
   "outputs": [],
   "source": []
  },
  {
   "cell_type": "code",
   "execution_count": null,
   "metadata": {},
   "outputs": [],
   "source": [
    "attacker_one, attacker_two, attacker_three = random.randint(min, max), random.randint(min, max), random.randint(min, max)\n",
    "defender_one, defender_two = random.randint(min, max), random.randint(min, max)\n",
    "sorted([attacker_one, attacker_two, attacker_three], reverse = True)[0:1]"
   ]
  },
  {
   "cell_type": "code",
   "execution_count": null,
   "metadata": {},
   "outputs": [],
   "source": [
    "# Start the count at 0 for both.\n",
    "count_attacker, count_defender = 0,0\n",
    "throw_dices(n_runs = 1000, minn = 1, maxx = 6, count_attacker = count_attacker, count_defender = count_defender)"
   ]
  },
  {
   "cell_type": "code",
   "execution_count": null,
   "metadata": {},
   "outputs": [],
   "source": [
    "throw_dices(minn = 1, maxx = 6, count_attacker = count_attacker, count_defender = count_defender)"
   ]
  },
  {
   "cell_type": "code",
   "execution_count": null,
   "metadata": {},
   "outputs": [],
   "source": [
    "import random\n",
    "min = 1\n",
    "max = 6\n",
    "\n",
    "roll_again = \"yes\"\n",
    "\n",
    "while roll_again == \"yes\" or roll_again == \"y\":\n",
    "    print \"Rolling the dices...\"\n",
    "    print \"The values are....\"\n",
    "    print random.randint(min, max)\n",
    "    print random.randint(min, max)\n",
    "\n",
    "    roll_again = raw_input(\"Roll the dices again?\")"
   ]
  }
 ],
 "metadata": {
  "kernelspec": {
   "display_name": "Python 3",
   "language": "python",
   "name": "python3"
  },
  "language_info": {
   "codemirror_mode": {
    "name": "ipython",
    "version": 3
   },
   "file_extension": ".py",
   "mimetype": "text/x-python",
   "name": "python",
   "nbconvert_exporter": "python",
   "pygments_lexer": "ipython3",
   "version": "3.7.5"
  }
 },
 "nbformat": 4,
 "nbformat_minor": 4
}
